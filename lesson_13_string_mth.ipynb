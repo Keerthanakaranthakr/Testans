{
  "nbformat": 4,
  "nbformat_minor": 0,
  "metadata": {
    "colab": {
      "provenance": [],
      "authorship_tag": "ABX9TyMkHIGqHgeXx/7K7aVkmVHC",
      "include_colab_link": true
    },
    "kernelspec": {
      "name": "python3",
      "display_name": "Python 3"
    },
    "language_info": {
      "name": "python"
    }
  },
  "cells": [
    {
      "cell_type": "markdown",
      "metadata": {
        "id": "view-in-github",
        "colab_type": "text"
      },
      "source": [
        "<a href=\"https://colab.research.google.com/github/Keerthanakaranthakr/Testans/blob/main/lesson_13_string_mth.ipynb\" target=\"_parent\"><img src=\"https://colab.research.google.com/assets/colab-badge.svg\" alt=\"Open In Colab\"/></a>"
      ]
    },
    {
      "cell_type": "code",
      "execution_count": null,
      "metadata": {
        "colab": {
          "base_uri": "https://localhost:8080/"
        },
        "id": "J2zVkX7usUZZ",
        "outputId": "82a1346a-0e19-493f-b5f8-6d3d8d22a4f6"
      },
      "outputs": [
        {
          "output_type": "stream",
          "name": "stdout",
          "text": [
            "26\n"
          ]
        }
      ],
      "source": [
        "# Strings are immutable\n",
        "a = \"!!!Harry!! !!!!!!!!! Harry\"\n",
        "print(len(a))"
      ]
    },
    {
      "cell_type": "code",
      "source": [
        "print(a)"
      ],
      "metadata": {
        "colab": {
          "base_uri": "https://localhost:8080/"
        },
        "id": "7TfdLHW2v-lP",
        "outputId": "2f6c1819-f854-4c9d-97a6-2b43f2e3171d"
      },
      "execution_count": null,
      "outputs": [
        {
          "output_type": "stream",
          "name": "stdout",
          "text": [
            "!!!Harry!! !!!!!!!!! Harry\n"
          ]
        }
      ]
    },
    {
      "cell_type": "code",
      "source": [
        "print(a.upper())"
      ],
      "metadata": {
        "colab": {
          "base_uri": "https://localhost:8080/"
        },
        "id": "ptuGPh3-waNJ",
        "outputId": "cfb63bfc-85c8-448f-9426-2db4e3294fc8"
      },
      "execution_count": null,
      "outputs": [
        {
          "output_type": "stream",
          "name": "stdout",
          "text": [
            "!!!HARRY!! !!!!!!!!! HARRY\n"
          ]
        }
      ]
    },
    {
      "cell_type": "code",
      "source": [
        "print(a.lower())"
      ],
      "metadata": {
        "colab": {
          "base_uri": "https://localhost:8080/"
        },
        "id": "Yd3EWfCTwdNf",
        "outputId": "91f1bc7b-fb48-455c-e85f-adf446d36d56"
      },
      "execution_count": null,
      "outputs": [
        {
          "output_type": "stream",
          "name": "stdout",
          "text": [
            "!!!harry!! !!!!!!!!! harry\n"
          ]
        }
      ]
    },
    {
      "cell_type": "markdown",
      "source": [
        "t removes all trailing ! characters from the end of the string — but not from the middle. rstrip() is a string method in Python that removes trailing characters (from the right end of the string)."
      ],
      "metadata": {
        "id": "-PRfDcEZyLI8"
      }
    },
    {
      "cell_type": "code",
      "source": [
        "print(a.rstrip(\"!\"))"
      ],
      "metadata": {
        "colab": {
          "base_uri": "https://localhost:8080/"
        },
        "id": "lF-PyuNnxDvA",
        "outputId": "8e82c256-3426-4eee-cc0b-0d1414fdff4e"
      },
      "execution_count": null,
      "outputs": [
        {
          "output_type": "stream",
          "name": "stdout",
          "text": [
            "!!!Harry!! !!!!!!!!! Harry\n"
          ]
        }
      ]
    },
    {
      "cell_type": "code",
      "source": [
        "print(a.replace(\"Harry\", \"John\"))"
      ],
      "metadata": {
        "colab": {
          "base_uri": "https://localhost:8080/"
        },
        "id": "DwrzDMayxHs4",
        "outputId": "3a5ef4a0-6a96-43ed-938e-03c9ec54b0c4"
      },
      "execution_count": null,
      "outputs": [
        {
          "output_type": "stream",
          "name": "stdout",
          "text": [
            "!!!John!! !!!!!!!!! John\n"
          ]
        }
      ]
    },
    {
      "cell_type": "code",
      "source": [
        "print(a.split(\" \"))"
      ],
      "metadata": {
        "colab": {
          "base_uri": "https://localhost:8080/"
        },
        "id": "nZwVZjfsyqB5",
        "outputId": "8501ea6f-8e70-4ec8-e400-c82868aa3d10"
      },
      "execution_count": null,
      "outputs": [
        {
          "output_type": "stream",
          "name": "stdout",
          "text": [
            "['!!!Harry!!', '!!!!!!!!!', 'Harry']\n"
          ]
        }
      ]
    },
    {
      "cell_type": "code",
      "source": [
        "blogHeading = \"introduction tO jS\"\n",
        "print(blogHeading.capitalize())"
      ],
      "metadata": {
        "colab": {
          "base_uri": "https://localhost:8080/"
        },
        "id": "3q5fYxJmyzK0",
        "outputId": "fa809f55-d7d8-43d7-9c9e-0ed950cda53c"
      },
      "execution_count": null,
      "outputs": [
        {
          "output_type": "stream",
          "name": "stdout",
          "text": [
            "Introduction to js\n"
          ]
        }
      ]
    },
    {
      "cell_type": "code",
      "source": [
        "str1 = \"Welcome to the Console!!!\"\n",
        "print(len(str1))"
      ],
      "metadata": {
        "colab": {
          "base_uri": "https://localhost:8080/"
        },
        "id": "9ASjFIMgy512",
        "outputId": "6d9c8c01-2683-4aa6-a505-ff9a21cd3283"
      },
      "execution_count": null,
      "outputs": [
        {
          "output_type": "stream",
          "name": "stdout",
          "text": [
            "25\n"
          ]
        }
      ]
    },
    {
      "cell_type": "markdown",
      "source": [
        "str1.center(50) centers the string str1 in a field of 50 characters.\n",
        "\n",
        "It adds spaces on both sides to make the total length exactly 50.\n",
        "\n",
        "len(...) then prints the length — which will be 50 no matter what str1 is."
      ],
      "metadata": {
        "id": "9vMFz-SN1jV_"
      }
    },
    {
      "cell_type": "code",
      "source": [
        "print(len(str1.center(50)))"
      ],
      "metadata": {
        "colab": {
          "base_uri": "https://localhost:8080/"
        },
        "id": "hbMvd5CCzIpO",
        "outputId": "cdc0e150-5b76-4876-e7c3-96d6c4e4934f"
      },
      "execution_count": null,
      "outputs": [
        {
          "output_type": "stream",
          "name": "stdout",
          "text": [
            "50\n"
          ]
        }
      ]
    },
    {
      "cell_type": "markdown",
      "source": [
        "a.count(\"Harry\") counts how many times the word \"Harry\" appears in the string a."
      ],
      "metadata": {
        "id": "uAtDsQWM2EgY"
      }
    },
    {
      "cell_type": "code",
      "source": [
        "print(a.count(\"Harry\"))"
      ],
      "metadata": {
        "colab": {
          "base_uri": "https://localhost:8080/"
        },
        "id": "kMvLiFsN0kK5",
        "outputId": "e36ca065-916f-4215-a2e3-8931de698a49"
      },
      "execution_count": null,
      "outputs": [
        {
          "output_type": "stream",
          "name": "stdout",
          "text": [
            "2\n"
          ]
        }
      ]
    },
    {
      "cell_type": "code",
      "source": [
        "str1 = \"Welcome to the Console !!!\"\n",
        "print(str1.endswith(\"!!!\"))"
      ],
      "metadata": {
        "colab": {
          "base_uri": "https://localhost:8080/"
        },
        "id": "T6cqig-W2Vn8",
        "outputId": "ecde0f51-c683-428b-e30d-064e769ee1df"
      },
      "execution_count": null,
      "outputs": [
        {
          "output_type": "stream",
          "name": "stdout",
          "text": [
            "True\n"
          ]
        }
      ]
    },
    {
      "cell_type": "markdown",
      "source": [
        "string.endswith(substring, start, end)\n",
        "substring – the part you want to check for at the end of a slice of the string.\n",
        "\n",
        "start – optional. Where to start checking (default = 0).\n",
        "\n",
        "end – optional. Where to stop checking (default = end of string).\n",
        "\n",
        "So this checks whether the string from index 4 to 10 ends with \"to\".\n",
        "\n",
        "str1 = \"Welcome to the Console !!!\"\n",
        "           01234567890123456789\n",
        "           W e l c o m e   t o\n",
        "str1[4:10]  →  \"ome to\"\n",
        "\n",
        "Does \"ome to\" end with \"to\"?\n",
        "✅ Yes, so the output is:\n",
        "True"
      ],
      "metadata": {
        "id": "AaMPdBsA4cXI"
      }
    },
    {
      "cell_type": "code",
      "source": [
        "str1 = \"Welcome to the Console !!!\"\n",
        "print(str1.endswith(\"to\", 4, 10))"
      ],
      "metadata": {
        "colab": {
          "base_uri": "https://localhost:8080/"
        },
        "id": "RPJ6DjlX2kTi",
        "outputId": "487364af-08b3-45cc-c0f9-0802a48a73d0"
      },
      "execution_count": null,
      "outputs": [
        {
          "output_type": "stream",
          "name": "stdout",
          "text": [
            "True\n"
          ]
        }
      ]
    },
    {
      "cell_type": "markdown",
      "source": [
        "find() is like asking politely: \"Do you see this word?\" If not, it replies \"No\" (i.e. -1).\n",
        "\n",
        "index() is like demanding: \"Tell me where this word is!\" If it’s not there, it gets mad and crashes your program."
      ],
      "metadata": {
        "id": "T5fX3RNjkkr5"
      }
    },
    {
      "cell_type": "code",
      "source": [
        "str1 = \"He's name is Dan. He is an honest man.\"\n",
        "print(str1.find(\"ishh\"))\n",
        "# print(str1.index(\"ishh\"))"
      ],
      "metadata": {
        "colab": {
          "base_uri": "https://localhost:8080/"
        },
        "id": "k2wzkQpB3TjF",
        "outputId": "5d510a2b-878c-482d-ff28-295d071ea73c"
      },
      "execution_count": null,
      "outputs": [
        {
          "output_type": "stream",
          "name": "stdout",
          "text": [
            "-1\n"
          ]
        }
      ]
    },
    {
      "cell_type": "markdown",
      "source": [
        " .isalnum() checks whether all characters in the string are either:\n",
        "Alphabets (A–Z, a–z)\n",
        "\n",
        "Numbers (0–9)\n",
        "\n",
        "If all characters are letters or digits (and there are no spaces, symbols, or punctuation), it returns True.\n",
        "\n",
        "If any character is something else (like a space, !, #, @, etc.), it returns False"
      ],
      "metadata": {
        "id": "kX5hPxCxo5Kv"
      }
    },
    {
      "cell_type": "code",
      "source": [
        "str1 = \"WelcomeToTheConsole\"\n",
        "print(str1.isalnum())"
      ],
      "metadata": {
        "colab": {
          "base_uri": "https://localhost:8080/"
        },
        "id": "b8-4PCk53p0G",
        "outputId": "c8be36aa-b374-4759-e643-cdf5139d730d"
      },
      "execution_count": null,
      "outputs": [
        {
          "output_type": "stream",
          "name": "stdout",
          "text": [
            "True\n"
          ]
        }
      ]
    },
    {
      "cell_type": "markdown",
      "source": [
        ".isalpha() checks if all characters in the string are only alphabets:\n",
        "A–Z or a–z\n",
        "\n",
        "No digits (0–9)\n",
        "\n",
        "No spaces or symbols (like !, _, @, etc.)"
      ],
      "metadata": {
        "id": "ZckuYEK-pnKl"
      }
    },
    {
      "cell_type": "code",
      "source": [
        "str1 = \"Welcome\"\n",
        "print(str1.isalpha())"
      ],
      "metadata": {
        "colab": {
          "base_uri": "https://localhost:8080/"
        },
        "id": "rOK3oMBsmc0n",
        "outputId": "dd762805-921b-4c9a-b1bb-50f156d15fd8"
      },
      "execution_count": null,
      "outputs": [
        {
          "output_type": "stream",
          "name": "stdout",
          "text": [
            "True\n"
          ]
        }
      ]
    },
    {
      "cell_type": "markdown",
      "source": [
        ".islower() checks if all the alphabetic characters in the string are lowercase.\n",
        "\n",
        "It ignores numbers, spaces, and symbols.\n",
        "\n",
        "If all letters are lowercase → True\n",
        "\n",
        "If any letter is uppercase → False"
      ],
      "metadata": {
        "id": "HvF83BaLpuMS"
      }
    },
    {
      "cell_type": "code",
      "source": [
        "str1 = \"hello world\"\n",
        "print(str1.islower())"
      ],
      "metadata": {
        "colab": {
          "base_uri": "https://localhost:8080/"
        },
        "id": "0J2Jp9xUpXs8",
        "outputId": "667f5404-b5e1-4b46-ac2f-8162b4c255f3"
      },
      "execution_count": null,
      "outputs": [
        {
          "output_type": "stream",
          "name": "stdout",
          "text": [
            "True\n"
          ]
        }
      ]
    },
    {
      "cell_type": "markdown",
      "source": [
        ".isprintable() checks if all characters in the string are printable (like letters, numbers, spaces, punctuation).\n",
        "\n",
        "Printable: A-Z, a-z, 0-9, spaces, symbols (@#$%^&*)\n",
        "\n",
        "NOT printable: special control characters like \\n, \\t, etc.\n",
        "\n",
        ".isspace() returns True if all characters in the string are whitespace — this includes:\n",
        "\n",
        "Space (' ')\n",
        "\n",
        "Tab (\\t)\n",
        "\n",
        "Newline (\\n)\n",
        "\n",
        "3. str2.isspace() (with tab)\n",
        "python\n",
        "Copy\n",
        "Edit\n",
        "str2 = \"  \"       # Looks like space, but you mentioned it's tab\n",
        "print(str2.isspace())   # Depends on actual input!\n",
        "Now here’s the important catch:\n",
        "\n",
        "If your code has a real tab character (\\t) — not just two spacebars — then:\n",
        "\n",
        "python\n",
        "Copy\n",
        "Edit\n",
        "str2 = \"\\t\"\n",
        "print(str2.isspace())   # ✅ Output: True\n",
        "🧪 If it's actually just:\n",
        "\n",
        "python\n",
        "Copy\n",
        "Edit\n",
        "str2 = \"  \"   # two regular spacebar spaces\n",
        "Then it's still:\n",
        "\n",
        "python\n",
        "Copy\n",
        "Edit\n",
        "True\n",
        "Because spaces, tabs, and newlines all count as whitespace."
      ],
      "metadata": {
        "id": "b96g1Lg0rX8p"
      }
    },
    {
      "cell_type": "markdown",
      "source": [
        "✅ Summary Table:\n",
        "String\tFunction\tResult\tWhy?\n",
        "\"Hello\\n\"\t.isprintable()\t❌ False\tBecause \\n is not printable\n",
        "\" \"\t.isspace()\t✅ True\tAll characters are whitespace\n",
        "\"\\t\"\t.isspace()\t✅ True\tTab is whitespace\n",
        "\"abc \"\t.isspace()\t❌ False\tabc are not whitespace"
      ],
      "metadata": {
        "id": "kcuZCO-5sP8A"
      }
    },
    {
      "cell_type": "code",
      "source": [
        "str1 = \"We wish you a Merry Christmas\\n\"\n",
        "print(str1.isprintable())\n",
        "str1 = \"         \"       #using Spacebar\n",
        "print(str1.isspace())\n",
        "str2 = \"  \"       #using Tab\n",
        "print(str2.isspace())"
      ],
      "metadata": {
        "colab": {
          "base_uri": "https://localhost:8080/"
        },
        "id": "1q3kQzElptOP",
        "outputId": "6d74c31f-fa2f-4d01-ab2c-be89a654c00e"
      },
      "execution_count": null,
      "outputs": [
        {
          "output_type": "stream",
          "name": "stdout",
          "text": [
            "False\n",
            "True\n",
            "True\n"
          ]
        }
      ]
    },
    {
      "cell_type": "markdown",
      "source": [
        "The .istitle() method checks if:\n",
        "\n",
        "Every word in the string starts with an uppercase letter, and all the remaining letters in each word are lowercase."
      ],
      "metadata": {
        "id": "7TyaRGOWHmz_"
      }
    },
    {
      "cell_type": "code",
      "source": [
        "str1 = \"World Health Organization\"\n",
        "print(str1.istitle())"
      ],
      "metadata": {
        "colab": {
          "base_uri": "https://localhost:8080/"
        },
        "id": "9mjOMqAtqWax",
        "outputId": "c773e0ae-1177-4b85-bad2-5b0a39096004"
      },
      "execution_count": null,
      "outputs": [
        {
          "output_type": "stream",
          "name": "stdout",
          "text": [
            "True\n"
          ]
        }
      ]
    },
    {
      "cell_type": "markdown",
      "source": [
        "🤔 Why is the output False?\n",
        "Because .istitle() checks if:\n",
        "\n",
        "Every word starts with an uppercase letter and the rest of each word is lowercase.\n",
        "\n",
        "Let’s break your string down word by word:\n",
        "\n",
        "Word\tIs Title Case?\n",
        "To\t✅ Yes\n",
        "kill\t❌ No (should be \"Kill\")\n",
        "a\t❌ No (should be \"A\")\n",
        "Mocking\t✅ Yes\n",
        "bird\t❌ No (should be \"Bird\")\n",
        "\n",
        "So the entire string is not in proper title case.\n"
      ],
      "metadata": {
        "id": "mgTLK9FbI_sd"
      }
    },
    {
      "cell_type": "code",
      "source": [
        "str2 = \"To kill a Mocking bird\"\n",
        "print(str2.istitle())"
      ],
      "metadata": {
        "colab": {
          "base_uri": "https://localhost:8080/"
        },
        "id": "JyOMBuBTqf4T",
        "outputId": "f8cf2be8-5b9c-45d2-af52-feaaa69b2e0a"
      },
      "execution_count": null,
      "outputs": [
        {
          "output_type": "stream",
          "name": "stdout",
          "text": [
            "False\n"
          ]
        }
      ]
    },
    {
      "cell_type": "code",
      "source": [
        "str1 = \"Python is a Interpreted Language\"\n",
        "print(str1.startswith(\"Python\"))"
      ],
      "metadata": {
        "colab": {
          "base_uri": "https://localhost:8080/"
        },
        "id": "ct6WiYgwITkT",
        "outputId": "d87f3596-9b72-4212-de69-f37ee237c868"
      },
      "execution_count": null,
      "outputs": [
        {
          "output_type": "stream",
          "name": "stdout",
          "text": [
            "True\n"
          ]
        }
      ]
    },
    {
      "cell_type": "markdown",
      "source": [
        " swapcase() Method\n",
        "✅ What it does:\n",
        "swapcase() returns a new string where uppercase letters become lowercase and lowercase letters become uppercase."
      ],
      "metadata": {
        "id": "zd8Q9O3KJgX_"
      }
    },
    {
      "cell_type": "code",
      "source": [
        "str1 = \"Python is a Interpreted Language\"\n",
        "print(str1.swapcase())"
      ],
      "metadata": {
        "colab": {
          "base_uri": "https://localhost:8080/"
        },
        "id": "Jg4pPQ67JKD0",
        "outputId": "5fcefffc-927d-4084-b3b6-19163abf08c2"
      },
      "execution_count": null,
      "outputs": [
        {
          "output_type": "stream",
          "name": "stdout",
          "text": [
            "pYTHON IS A iNTERPRETED lANGUAGE\n"
          ]
        }
      ]
    },
    {
      "cell_type": "code",
      "source": [
        "str1 = \"His name is Dan. Dan is an honest man.\"\n",
        "print(str1.title())"
      ],
      "metadata": {
        "colab": {
          "base_uri": "https://localhost:8080/"
        },
        "id": "BzlZ09ewJMzn",
        "outputId": "b5a5ff22-60b4-4fcb-f967-a194ffec3e43"
      },
      "execution_count": null,
      "outputs": [
        {
          "output_type": "stream",
          "name": "stdout",
          "text": [
            "His Name Is Dan. Dan Is An Honest Man.\n"
          ]
        }
      ]
    },
    {
      "cell_type": "code",
      "source": [
        "a = int(input(\"Enter your age: \"))\n",
        "print(\"Your age is:\", a)\n",
        "# Conditional operators\n",
        "# >, <, >=, <=, ==, !=\n",
        "# print(a>18)\n",
        "# print(a<=18)\n",
        "# print(a==18)\n",
        "# print(a!=18)\n",
        "if(a>18):\n",
        "  print(\"You can drive\")\n",
        "  print(\"Yes\")\n",
        "else:\n",
        "  print(\"You cannot drive\")\n",
        "  print(\"No\")\n",
        "  print(\"Yay!\")"
      ],
      "metadata": {
        "colab": {
          "base_uri": "https://localhost:8080/"
        },
        "id": "Ax7Yhf8vKnMY",
        "outputId": "28d542d2-60ca-4d99-c7af-fb0e0a51768c"
      },
      "execution_count": null,
      "outputs": [
        {
          "output_type": "stream",
          "name": "stdout",
          "text": [
            "Enter your age: 56\n",
            "Your age is: 56\n",
            "You can drive\n",
            "Yes\n"
          ]
        }
      ]
    },
    {
      "cell_type": "markdown",
      "source": [
        "Great question!\n",
        "\n",
        "You're seeing **17:30:49** instead of your **actual time (23:04)** because:\n",
        "\n",
        "---\n",
        "\n",
        "### 🕓 **Python's `time` module uses your system time.**\n",
        "\n",
        "If you're running the code on:\n",
        "\n",
        "* 🖥️ **Your own computer (like Replit desktop app or local Python)** — it uses **your system's clock**.\n",
        "* ☁️ **Online platforms like Replit or HackerRank** — they run your code on a **remote server**, possibly in another **timezone**, like:\n",
        "\n",
        "  * UTC (Coordinated Universal Time),\n",
        "  * US-based time,\n",
        "  * or any default server timezone.\n",
        "\n",
        "---\n",
        "\n",
        "### 🔍 Your case:\n",
        "\n",
        "You said your **local time is 23:04**, but your program showed **17:30**.\n",
        "\n",
        "That suggests the server is **\\~5.5 hours behind you**, which matches the difference between **UTC** and **Indian Standard Time (IST)** — `UTC + 5:30`.\n",
        "\n",
        "---\n",
        "\n",
        "### ✅ How to fix or detect this:\n",
        "\n",
        "If you want to display your **local time** regardless of server:\n",
        "\n",
        "#### Option 1: Use `pytz` (only works on full Python installs, not Replit Free Plan)\n",
        "\n",
        "```python\n",
        "import datetime\n",
        "import pytz\n",
        "\n",
        "india = pytz.timezone('Asia/Kolkata')\n",
        "time_in_india = datetime.datetime.now(india)\n",
        "print(time_in_india.strftime('%H:%M:%S'))\n",
        "```\n",
        "\n",
        "> 🔧 Note: Replit Free Plan doesn’t allow installing `pytz`, so this only works locally or in full-featured Python environments.\n",
        "\n",
        "---\n",
        "\n",
        "#### Option 2: Just know that it's in UTC\n",
        "\n",
        "If you're using Replit and you see the time is 5.5 hours behind, it’s just **UTC**. You can mentally adjust or write code to **add 5.5 hours manually**.\n",
        "\n",
        "---\n",
        "\n",
        "Want me to help you write a clock that adjusts to India time even on Replit?\n"
      ],
      "metadata": {
        "id": "MIvGEnIBQXHX"
      }
    },
    {
      "cell_type": "code",
      "source": [
        "import datetime\n",
        "import pytz\n",
        "\n",
        "india = pytz.timezone('Asia/Kolkata')\n",
        "time_in_india = datetime.datetime.now(india)\n",
        "print(time_in_india.strftime('%H:%M:%S'))"
      ],
      "metadata": {
        "colab": {
          "base_uri": "https://localhost:8080/"
        },
        "id": "DqtGO6O3uVgI",
        "outputId": "437e88b6-c6aa-4d0b-d526-4df83101cb5f"
      },
      "execution_count": 1,
      "outputs": [
        {
          "output_type": "stream",
          "name": "stdout",
          "text": [
            "10:36:42\n"
          ]
        }
      ]
    },
    {
      "cell_type": "code",
      "source": [
        "import time\n",
        "timestamp = time.strftime('%H:%M:%S')\n",
        "print(timestamp)\n",
        "timestamp = time.strftime('%H')\n",
        "print(timestamp)\n",
        "timestamp = time.strftime('%M')\n",
        "print(timestamp)\n",
        "timestamp = time.strftime('%S')\n",
        "print(timestamp)\n",
        "# https://docs.python.org/3/library/time.html#time.strftime"
      ],
      "metadata": {
        "colab": {
          "base_uri": "https://localhost:8080/"
        },
        "id": "xXam2I6BOnpd",
        "outputId": "1b2702c8-34ac-4c7e-fd2f-035396e576bc"
      },
      "execution_count": null,
      "outputs": [
        {
          "output_type": "stream",
          "name": "stdout",
          "text": [
            "17:30:49\n",
            "17\n",
            "30\n",
            "49\n"
          ]
        }
      ]
    },
    {
      "cell_type": "code",
      "source": [],
      "metadata": {
        "id": "eQeZx4RhPKMi"
      },
      "execution_count": null,
      "outputs": []
    }
  ]
}